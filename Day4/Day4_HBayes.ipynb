{
 "cells": [
  {
   "cell_type": "markdown",
   "id": "28c2316d",
   "metadata": {},
   "source": [
    "# Problem 1: The Eight Schools\n",
    "\n",
    "Students at eight schools each participated in a test-prep program. After examination, the average score improvement $ \\Delta S$ for each school was recorded, along with the uncertainty on this measurement $ \\sigma( \\Delta S)$:\n",
    "\n",
    "   + $ \\Delta S$ = [28, 8, -3, 7, -1, 1, 18, 12]\n",
    "\n",
    "   + $ \\sigma( \\Delta S$) = [15, 10, 16, 11, 9, 11, 10, 18]\n",
    "\n",
    "\n",
    "a) Calculate the pooled mean improvement and uncertainty on the mean\n",
    "\n",
    "b) Fit the data using a hierarchical modeling. Assuming the score improvements $\\theta = \\Delta S$ were drawn from a population that can be modeled as a Gaussian with mean $\\mu$ and uncertainty $\\sigma$.\n",
    "\n",
    "* i. Draw your hyperparameters $\\alpha = \\{\\mu, \\sigma\\}$ from a Gaussian and Half-Cauchy distribution, respectively\n",
    "* ii. Test other choices of distributions for the hyper-priors and population. How sensitive are the results?\n",
    "\n",
    "Sample from the posterior using a sampling method of your choice. Test the sampler runs for convergence. Explore sampler behavior when using centered vs. off-centered parameterization."
   ]
  },
  {
   "cell_type": "code",
   "execution_count": 5,
   "id": "f79b887e",
   "metadata": {},
   "outputs": [
    {
     "name": "stdout",
     "output_type": "stream",
     "text": [
      "3.8.20\n"
     ]
    }
   ],
   "source": [
    "from platform import python_version\n",
    "\n",
    "print(python_version())"
   ]
  },
  {
   "cell_type": "code",
   "execution_count": 6,
   "id": "6260dfa6",
   "metadata": {
    "scrolled": false
   },
   "outputs": [
    {
     "name": "stdout",
     "output_type": "stream",
     "text": [
      "Selected Jupyter core packages...\n",
      "IPython          : 8.12.2\n",
      "ipykernel        : 6.29.5\n",
      "ipywidgets       : 8.1.5\n",
      "jupyter_client   : 7.4.9\n",
      "jupyter_core     : 5.7.2\n",
      "jupyter_server   : 2.14.2\n",
      "jupyterlab       : 4.3.0\n",
      "nbclient         : 0.10.2\n",
      "nbconvert        : 7.16.4\n",
      "nbformat         : 5.10.4\n",
      "notebook         : 6.5.7\n",
      "qtconsole        : not installed\n",
      "traitlets        : 5.14.3\n"
     ]
    }
   ],
   "source": [
    "!jupyter --version"
   ]
  },
  {
   "cell_type": "code",
   "execution_count": 8,
   "id": "3aeae032",
   "metadata": {},
   "outputs": [
    {
     "name": "stdout",
     "output_type": "stream",
     "text": [
      "Python 3.8.20\r\n"
     ]
    }
   ],
   "source": [
    "!python3 --version"
   ]
  },
  {
   "cell_type": "code",
   "execution_count": 11,
   "id": "815ed1e7",
   "metadata": {},
   "outputs": [
    {
     "name": "stdout",
     "output_type": "stream",
     "text": [
      "\u001b[31mERROR: Could not find a version that satisfies the requirement python (from versions: none)\u001b[0m\u001b[31m\n",
      "\u001b[0m\u001b[31mERROR: No matching distribution found for python\u001b[0m\u001b[31m\n",
      "\u001b[0m"
     ]
    }
   ],
   "source": [
    "!pip install --upgrade python"
   ]
  },
  {
   "cell_type": "code",
   "execution_count": 1,
   "id": "c988e2bf",
   "metadata": {
    "scrolled": true
   },
   "outputs": [
    {
     "name": "stdout",
     "output_type": "stream",
     "text": [
      "Requirement already satisfied: pymc3 in /Users/audrey/Documents/LSST/code/stack/conda/miniconda3-py38_4.9.2/envs/DSFP/lib/python3.8/site-packages (3.11.6)\n",
      "Requirement already satisfied: arviz>=0.11.0 in /Users/audrey/Documents/LSST/code/stack/conda/miniconda3-py38_4.9.2/envs/DSFP/lib/python3.8/site-packages (from pymc3) (0.12.1)\n",
      "Requirement already satisfied: cachetools>=4.2.1 in /Users/audrey/Documents/LSST/code/stack/conda/miniconda3-py38_4.9.2/envs/DSFP/lib/python3.8/site-packages (from pymc3) (5.5.0)\n",
      "Requirement already satisfied: deprecat in /Users/audrey/Documents/LSST/code/stack/conda/miniconda3-py38_4.9.2/envs/DSFP/lib/python3.8/site-packages (from pymc3) (2.1.3)\n",
      "Requirement already satisfied: dill in /Users/audrey/Documents/LSST/code/stack/conda/miniconda3-py38_4.9.2/envs/DSFP/lib/python3.8/site-packages (from pymc3) (0.4.0)\n",
      "Requirement already satisfied: fastprogress>=0.2.0 in /Users/audrey/Documents/LSST/code/stack/conda/miniconda3-py38_4.9.2/envs/DSFP/lib/python3.8/site-packages (from pymc3) (1.0.3)\n",
      "Requirement already satisfied: numpy<1.22.2,>=1.15.0 in /Users/audrey/Documents/LSST/code/stack/conda/miniconda3-py38_4.9.2/envs/DSFP/lib/python3.8/site-packages (from pymc3) (1.22.1)\n",
      "Requirement already satisfied: pandas>=0.24.0 in /Users/audrey/Documents/LSST/code/stack/conda/miniconda3-py38_4.9.2/envs/DSFP/lib/python3.8/site-packages (from pymc3) (1.5.3)\n",
      "Requirement already satisfied: patsy>=0.5.1 in /Users/audrey/Documents/LSST/code/stack/conda/miniconda3-py38_4.9.2/envs/DSFP/lib/python3.8/site-packages (from pymc3) (0.5.6)\n",
      "Requirement already satisfied: scipy<1.8.0,>=1.7.3 in /Users/audrey/Documents/LSST/code/stack/conda/miniconda3-py38_4.9.2/envs/DSFP/lib/python3.8/site-packages (from pymc3) (1.7.3)\n",
      "Requirement already satisfied: semver>=2.13.0 in /Users/audrey/Documents/LSST/code/stack/conda/miniconda3-py38_4.9.2/envs/DSFP/lib/python3.8/site-packages (from pymc3) (3.0.4)\n",
      "Requirement already satisfied: theano-pymc==1.1.2 in /Users/audrey/Documents/LSST/code/stack/conda/miniconda3-py38_4.9.2/envs/DSFP/lib/python3.8/site-packages (from pymc3) (1.1.2)\n",
      "Requirement already satisfied: typing-extensions>=3.7.4 in /Users/audrey/Documents/LSST/code/stack/conda/miniconda3-py38_4.9.2/envs/DSFP/lib/python3.8/site-packages (from pymc3) (4.12.2)\n",
      "Requirement already satisfied: filelock in /Users/audrey/Documents/LSST/code/stack/conda/miniconda3-py38_4.9.2/envs/DSFP/lib/python3.8/site-packages (from theano-pymc==1.1.2->pymc3) (3.16.1)\n",
      "Requirement already satisfied: setuptools>=38.4 in /Users/audrey/Documents/LSST/code/stack/conda/miniconda3-py38_4.9.2/envs/DSFP/lib/python3.8/site-packages (from arviz>=0.11.0->pymc3) (75.3.0)\n",
      "Requirement already satisfied: matplotlib>=3.0 in /Users/audrey/Documents/LSST/code/stack/conda/miniconda3-py38_4.9.2/envs/DSFP/lib/python3.8/site-packages (from arviz>=0.11.0->pymc3) (3.7.3)\n",
      "Requirement already satisfied: packaging in /Users/audrey/Documents/LSST/code/stack/conda/miniconda3-py38_4.9.2/envs/DSFP/lib/python3.8/site-packages (from arviz>=0.11.0->pymc3) (25.0)\n",
      "Requirement already satisfied: xarray>=0.16.1 in /Users/audrey/Documents/LSST/code/stack/conda/miniconda3-py38_4.9.2/envs/DSFP/lib/python3.8/site-packages (from arviz>=0.11.0->pymc3) (2023.1.0)\n",
      "Requirement already satisfied: netcdf4 in /Users/audrey/Documents/LSST/code/stack/conda/miniconda3-py38_4.9.2/envs/DSFP/lib/python3.8/site-packages (from arviz>=0.11.0->pymc3) (1.7.2)\n",
      "Requirement already satisfied: xarray-einstats>=0.2 in /Users/audrey/Documents/LSST/code/stack/conda/miniconda3-py38_4.9.2/envs/DSFP/lib/python3.8/site-packages (from arviz>=0.11.0->pymc3) (0.5.1)\n",
      "Requirement already satisfied: python-dateutil>=2.8.1 in /Users/audrey/Documents/LSST/code/stack/conda/miniconda3-py38_4.9.2/envs/DSFP/lib/python3.8/site-packages (from pandas>=0.24.0->pymc3) (2.9.0)\n",
      "Requirement already satisfied: pytz>=2020.1 in /Users/audrey/Documents/LSST/code/stack/conda/miniconda3-py38_4.9.2/envs/DSFP/lib/python3.8/site-packages (from pandas>=0.24.0->pymc3) (2024.2)\n",
      "Requirement already satisfied: six in /Users/audrey/Documents/LSST/code/stack/conda/miniconda3-py38_4.9.2/envs/DSFP/lib/python3.8/site-packages (from patsy>=0.5.1->pymc3) (1.16.0)\n",
      "Requirement already satisfied: wrapt<2,>=1.10 in /Users/audrey/Documents/LSST/code/stack/conda/miniconda3-py38_4.9.2/envs/DSFP/lib/python3.8/site-packages (from deprecat->pymc3) (1.17.2)\n",
      "Requirement already satisfied: contourpy>=1.0.1 in /Users/audrey/Documents/LSST/code/stack/conda/miniconda3-py38_4.9.2/envs/DSFP/lib/python3.8/site-packages (from matplotlib>=3.0->arviz>=0.11.0->pymc3) (1.1.1)\n",
      "Requirement already satisfied: cycler>=0.10 in /Users/audrey/Documents/LSST/code/stack/conda/miniconda3-py38_4.9.2/envs/DSFP/lib/python3.8/site-packages (from matplotlib>=3.0->arviz>=0.11.0->pymc3) (0.12.1)\n",
      "Requirement already satisfied: fonttools>=4.22.0 in /Users/audrey/Documents/LSST/code/stack/conda/miniconda3-py38_4.9.2/envs/DSFP/lib/python3.8/site-packages (from matplotlib>=3.0->arviz>=0.11.0->pymc3) (4.53.1)\n",
      "Requirement already satisfied: kiwisolver>=1.0.1 in /Users/audrey/Documents/LSST/code/stack/conda/miniconda3-py38_4.9.2/envs/DSFP/lib/python3.8/site-packages (from matplotlib>=3.0->arviz>=0.11.0->pymc3) (1.4.5)\n",
      "Requirement already satisfied: pillow>=6.2.0 in /Users/audrey/Documents/LSST/code/stack/conda/miniconda3-py38_4.9.2/envs/DSFP/lib/python3.8/site-packages (from matplotlib>=3.0->arviz>=0.11.0->pymc3) (10.4.0)\n",
      "Requirement already satisfied: pyparsing>=2.3.1 in /Users/audrey/Documents/LSST/code/stack/conda/miniconda3-py38_4.9.2/envs/DSFP/lib/python3.8/site-packages (from matplotlib>=3.0->arviz>=0.11.0->pymc3) (3.1.4)\n",
      "Requirement already satisfied: importlib-resources>=3.2.0 in /Users/audrey/Documents/LSST/code/stack/conda/miniconda3-py38_4.9.2/envs/DSFP/lib/python3.8/site-packages (from matplotlib>=3.0->arviz>=0.11.0->pymc3) (6.4.5)\n",
      "Requirement already satisfied: cftime in /Users/audrey/Documents/LSST/code/stack/conda/miniconda3-py38_4.9.2/envs/DSFP/lib/python3.8/site-packages (from netcdf4->arviz>=0.11.0->pymc3) (1.6.4.post1)\n",
      "Requirement already satisfied: certifi in /Users/audrey/Documents/LSST/code/stack/conda/miniconda3-py38_4.9.2/envs/DSFP/lib/python3.8/site-packages (from netcdf4->arviz>=0.11.0->pymc3) (2024.8.30)\n",
      "Requirement already satisfied: zipp>=3.1.0 in /Users/audrey/Documents/LSST/code/stack/conda/miniconda3-py38_4.9.2/envs/DSFP/lib/python3.8/site-packages (from importlib-resources>=3.2.0->matplotlib>=3.0->arviz>=0.11.0->pymc3) (3.21.0)\n",
      "Note: you may need to restart the kernel to use updated packages.\n"
     ]
    }
   ],
   "source": [
    "%pip install pymc3"
   ]
  },
  {
   "cell_type": "code",
   "execution_count": 4,
   "id": "cc8d20c5",
   "metadata": {},
   "outputs": [
    {
     "name": "stdout",
     "output_type": "stream",
     "text": [
      "\u001b[31mERROR: Could not find a version that satisfies the requirement distutils (from versions: none)\u001b[0m\u001b[31m\n",
      "\u001b[0m\u001b[31mERROR: No matching distribution found for distutils\u001b[0m\u001b[31m\n",
      "\u001b[0mNote: you may need to restart the kernel to use updated packages.\n"
     ]
    }
   ],
   "source": [
    "%pip install distutils"
   ]
  },
  {
   "cell_type": "code",
   "execution_count": 2,
   "id": "b630553a",
   "metadata": {},
   "outputs": [
    {
     "ename": "ModuleNotFoundError",
     "evalue": "No module named 'distutils.msvccompiler'",
     "output_type": "error",
     "traceback": [
      "\u001b[0;31m---------------------------------------------------------------------------\u001b[0m",
      "\u001b[0;31mModuleNotFoundError\u001b[0m                       Traceback (most recent call last)",
      "Cell \u001b[0;32mIn[2], line 1\u001b[0m\n\u001b[0;32m----> 1\u001b[0m \u001b[38;5;28;01mimport\u001b[39;00m \u001b[38;5;21;01mpymc3\u001b[39;00m \u001b[38;5;28;01mas\u001b[39;00m \u001b[38;5;21;01mpm\u001b[39;00m\n\u001b[1;32m      2\u001b[0m \u001b[38;5;28;01mfrom\u001b[39;00m \u001b[38;5;21;01mscipy\u001b[39;00m \u001b[38;5;28;01mimport\u001b[39;00m stats\n\u001b[1;32m      3\u001b[0m \u001b[38;5;66;03m# import pymc3_ext as pmx\u001b[39;00m\n\u001b[1;32m      4\u001b[0m \u001b[38;5;66;03m# import arviz as az\u001b[39;00m\n",
      "File \u001b[0;32m~/Documents/LSST/code/stack/conda/miniconda3-py38_4.9.2/envs/DSFP/lib/python3.8/site-packages/pymc3/__init__.py:35\u001b[0m\n\u001b[1;32m     26\u001b[0m \u001b[38;5;66;03m# Workaround for Theano bug that tries to access blas_opt_info;\u001b[39;00m\n\u001b[1;32m     27\u001b[0m \u001b[38;5;66;03m#  must be done before importing theano.\u001b[39;00m\n\u001b[1;32m     28\u001b[0m \u001b[38;5;66;03m# https://github.com/pymc-devs/pymc/issues/5310\u001b[39;00m\n\u001b[1;32m     29\u001b[0m \u001b[38;5;66;03m# Copied from theano/link/c/cmodule.py: default_blas_ldflags()\u001b[39;00m\n\u001b[1;32m     30\u001b[0m \u001b[38;5;28;01mif\u001b[39;00m (\n\u001b[1;32m     31\u001b[0m     \u001b[38;5;28mhasattr\u001b[39m(numpy\u001b[38;5;241m.\u001b[39mdistutils, \u001b[38;5;124m\"\u001b[39m\u001b[38;5;124m__config__\u001b[39m\u001b[38;5;124m\"\u001b[39m)\n\u001b[1;32m     32\u001b[0m     \u001b[38;5;129;01mand\u001b[39;00m numpy\u001b[38;5;241m.\u001b[39mdistutils\u001b[38;5;241m.\u001b[39m__config__\n\u001b[1;32m     33\u001b[0m     \u001b[38;5;129;01mand\u001b[39;00m \u001b[38;5;129;01mnot\u001b[39;00m \u001b[38;5;28mhasattr\u001b[39m(numpy\u001b[38;5;241m.\u001b[39mdistutils\u001b[38;5;241m.\u001b[39m__config__, \u001b[38;5;124m\"\u001b[39m\u001b[38;5;124mblas_opt_info\u001b[39m\u001b[38;5;124m\"\u001b[39m)\n\u001b[1;32m     34\u001b[0m ):\n\u001b[0;32m---> 35\u001b[0m     \u001b[38;5;28;01mimport\u001b[39;00m \u001b[38;5;21;01mnumpy\u001b[39;00m\u001b[38;5;21;01m.\u001b[39;00m\u001b[38;5;21;01mdistutils\u001b[39;00m\u001b[38;5;21;01m.\u001b[39;00m\u001b[38;5;21;01msystem_info\u001b[39;00m  \u001b[38;5;66;03m# noqa\u001b[39;00m\n\u001b[1;32m     37\u001b[0m     \u001b[38;5;66;03m# We need to catch warnings as in some cases NumPy print\u001b[39;00m\n\u001b[1;32m     38\u001b[0m     \u001b[38;5;66;03m# stuff that we don't want the user to see.\u001b[39;00m\n\u001b[1;32m     39\u001b[0m     \u001b[38;5;28;01mwith\u001b[39;00m warnings\u001b[38;5;241m.\u001b[39mcatch_warnings(record\u001b[38;5;241m=\u001b[39m\u001b[38;5;28;01mTrue\u001b[39;00m):\n",
      "File \u001b[0;32m~/Documents/LSST/code/stack/conda/miniconda3-py38_4.9.2/envs/DSFP/lib/python3.8/site-packages/numpy/distutils/system_info.py:196\u001b[0m\n\u001b[1;32m    191\u001b[0m \u001b[38;5;28;01mfrom\u001b[39;00m \u001b[38;5;21;01mnumpy\u001b[39;00m\u001b[38;5;21;01m.\u001b[39;00m\u001b[38;5;21;01mdistutils\u001b[39;00m\u001b[38;5;21;01m.\u001b[39;00m\u001b[38;5;21;01mexec_command\u001b[39;00m \u001b[38;5;28;01mimport\u001b[39;00m (\n\u001b[1;32m    192\u001b[0m     find_executable, filepath_from_subprocess_output,\n\u001b[1;32m    193\u001b[0m     )\n\u001b[1;32m    194\u001b[0m \u001b[38;5;28;01mfrom\u001b[39;00m \u001b[38;5;21;01mnumpy\u001b[39;00m\u001b[38;5;21;01m.\u001b[39;00m\u001b[38;5;21;01mdistutils\u001b[39;00m\u001b[38;5;21;01m.\u001b[39;00m\u001b[38;5;21;01mmisc_util\u001b[39;00m \u001b[38;5;28;01mimport\u001b[39;00m (is_sequence, is_string,\n\u001b[1;32m    195\u001b[0m                                        get_shared_lib_extension)\n\u001b[0;32m--> 196\u001b[0m \u001b[38;5;28;01mfrom\u001b[39;00m \u001b[38;5;21;01mnumpy\u001b[39;00m\u001b[38;5;21;01m.\u001b[39;00m\u001b[38;5;21;01mdistutils\u001b[39;00m\u001b[38;5;21;01m.\u001b[39;00m\u001b[38;5;21;01mcommand\u001b[39;00m\u001b[38;5;21;01m.\u001b[39;00m\u001b[38;5;21;01mconfig\u001b[39;00m \u001b[38;5;28;01mimport\u001b[39;00m config \u001b[38;5;28;01mas\u001b[39;00m cmd_config\n\u001b[1;32m    197\u001b[0m \u001b[38;5;28;01mfrom\u001b[39;00m \u001b[38;5;21;01mnumpy\u001b[39;00m\u001b[38;5;21;01m.\u001b[39;00m\u001b[38;5;21;01mdistutils\u001b[39;00m \u001b[38;5;28;01mimport\u001b[39;00m customized_ccompiler \u001b[38;5;28;01mas\u001b[39;00m _customized_ccompiler\n\u001b[1;32m    198\u001b[0m \u001b[38;5;28;01mfrom\u001b[39;00m \u001b[38;5;21;01mnumpy\u001b[39;00m\u001b[38;5;21;01m.\u001b[39;00m\u001b[38;5;21;01mdistutils\u001b[39;00m \u001b[38;5;28;01mimport\u001b[39;00m _shell_utils\n",
      "File \u001b[0;32m~/Documents/LSST/code/stack/conda/miniconda3-py38_4.9.2/envs/DSFP/lib/python3.8/site-packages/numpy/distutils/command/config.py:19\u001b[0m\n\u001b[1;32m     17\u001b[0m \u001b[38;5;28;01mimport\u001b[39;00m \u001b[38;5;21;01mdistutils\u001b[39;00m\n\u001b[1;32m     18\u001b[0m \u001b[38;5;28;01mfrom\u001b[39;00m \u001b[38;5;21;01mnumpy\u001b[39;00m\u001b[38;5;21;01m.\u001b[39;00m\u001b[38;5;21;01mdistutils\u001b[39;00m\u001b[38;5;21;01m.\u001b[39;00m\u001b[38;5;21;01mexec_command\u001b[39;00m \u001b[38;5;28;01mimport\u001b[39;00m filepath_from_subprocess_output\n\u001b[0;32m---> 19\u001b[0m \u001b[38;5;28;01mfrom\u001b[39;00m \u001b[38;5;21;01mnumpy\u001b[39;00m\u001b[38;5;21;01m.\u001b[39;00m\u001b[38;5;21;01mdistutils\u001b[39;00m\u001b[38;5;21;01m.\u001b[39;00m\u001b[38;5;21;01mmingw32ccompiler\u001b[39;00m \u001b[38;5;28;01mimport\u001b[39;00m generate_manifest\n\u001b[1;32m     20\u001b[0m \u001b[38;5;28;01mfrom\u001b[39;00m \u001b[38;5;21;01mnumpy\u001b[39;00m\u001b[38;5;21;01m.\u001b[39;00m\u001b[38;5;21;01mdistutils\u001b[39;00m\u001b[38;5;21;01m.\u001b[39;00m\u001b[38;5;21;01mcommand\u001b[39;00m\u001b[38;5;21;01m.\u001b[39;00m\u001b[38;5;21;01mautodist\u001b[39;00m \u001b[38;5;28;01mimport\u001b[39;00m (check_gcc_function_attribute,\n\u001b[1;32m     21\u001b[0m                                               check_gcc_function_attribute_with_intrinsics,\n\u001b[1;32m     22\u001b[0m                                               check_gcc_variable_attribute,\n\u001b[0;32m   (...)\u001b[0m\n\u001b[1;32m     25\u001b[0m                                               check_restrict,\n\u001b[1;32m     26\u001b[0m                                               check_compiler_gcc)\n\u001b[1;32m     28\u001b[0m LANG_EXT[\u001b[38;5;124m'\u001b[39m\u001b[38;5;124mf77\u001b[39m\u001b[38;5;124m'\u001b[39m] \u001b[38;5;241m=\u001b[39m \u001b[38;5;124m'\u001b[39m\u001b[38;5;124m.f\u001b[39m\u001b[38;5;124m'\u001b[39m\n",
      "File \u001b[0;32m~/Documents/LSST/code/stack/conda/miniconda3-py38_4.9.2/envs/DSFP/lib/python3.8/site-packages/numpy/distutils/mingw32ccompiler.py:28\u001b[0m\n\u001b[1;32m     26\u001b[0m \u001b[38;5;28;01mimport\u001b[39;00m \u001b[38;5;21;01mdistutils\u001b[39;00m\u001b[38;5;21;01m.\u001b[39;00m\u001b[38;5;21;01mcygwinccompiler\u001b[39;00m\n\u001b[1;32m     27\u001b[0m \u001b[38;5;28;01mfrom\u001b[39;00m \u001b[38;5;21;01mdistutils\u001b[39;00m\u001b[38;5;21;01m.\u001b[39;00m\u001b[38;5;21;01munixccompiler\u001b[39;00m \u001b[38;5;28;01mimport\u001b[39;00m UnixCCompiler\n\u001b[0;32m---> 28\u001b[0m \u001b[38;5;28;01mfrom\u001b[39;00m \u001b[38;5;21;01mdistutils\u001b[39;00m\u001b[38;5;21;01m.\u001b[39;00m\u001b[38;5;21;01mmsvccompiler\u001b[39;00m \u001b[38;5;28;01mimport\u001b[39;00m get_build_version \u001b[38;5;28;01mas\u001b[39;00m get_build_msvc_version\n\u001b[1;32m     29\u001b[0m \u001b[38;5;28;01mfrom\u001b[39;00m \u001b[38;5;21;01mdistutils\u001b[39;00m\u001b[38;5;21;01m.\u001b[39;00m\u001b[38;5;21;01merrors\u001b[39;00m \u001b[38;5;28;01mimport\u001b[39;00m UnknownFileError\n\u001b[1;32m     30\u001b[0m \u001b[38;5;28;01mfrom\u001b[39;00m \u001b[38;5;21;01mnumpy\u001b[39;00m\u001b[38;5;21;01m.\u001b[39;00m\u001b[38;5;21;01mdistutils\u001b[39;00m\u001b[38;5;21;01m.\u001b[39;00m\u001b[38;5;21;01mmisc_util\u001b[39;00m \u001b[38;5;28;01mimport\u001b[39;00m (msvc_runtime_library,\n\u001b[1;32m     31\u001b[0m                                        msvc_runtime_version,\n\u001b[1;32m     32\u001b[0m                                        msvc_runtime_major,\n\u001b[1;32m     33\u001b[0m                                        get_build_architecture)\n",
      "\u001b[0;31mModuleNotFoundError\u001b[0m: No module named 'distutils.msvccompiler'"
     ]
    }
   ],
   "source": [
    "import pymc3 as pm\n",
    "from scipy import stats\n",
    "# import pymc3_ext as pmx\n",
    "# import arviz as az"
   ]
  },
  {
   "cell_type": "code",
   "execution_count": null,
   "id": "9c921cb5",
   "metadata": {},
   "outputs": [],
   "source": [
    "import numpy as np\n",
    "score_improved = np.array([28, 8, -3, 7, -1, 1, 18, 12])\n",
    "score_unc = np.array([15, 10, 16, 11, 9, 11, 10, 18])"
   ]
  },
  {
   "cell_type": "code",
   "execution_count": null,
   "id": "7e76adbf",
   "metadata": {},
   "outputs": [],
   "source": [
    "import matplotlib.pyplot as plt\n",
    "nschool = len(score_improved)\n",
    "labels = list('ABCDEFGH')\n",
    "\n",
    "plt.figure(figsize=(5,4))\n",
    "plt.bar(np.arange(nschool), score_improved, yerr=score_unc, zorder=3, capsize=8)\n",
    "plt.grid(zorder=0, ls=':')\n",
    "plt.xticks(np.arange(nschool), labels)\n",
    "plt.xlabel(\"School\", fontsize=16)\n",
    "plt.ylabel(r\"Change in Score\", fontsize=16)\n",
    "plt.show()"
   ]
  },
  {
   "cell_type": "code",
   "execution_count": null,
   "id": "1a7cd00f",
   "metadata": {},
   "outputs": [],
   "source": [
    "# Part a\n",
    "\n",
    "# weight by the inverse variance & variance = uncertainty**2\n",
    "weights = 1/score_unc**2\n",
    "\n",
    "score_improved_mean = np.sum(weights*score_improved)/np.sum(weights)\n",
    "score_improved_mean"
   ]
  },
  {
   "cell_type": "code",
   "execution_count": null,
   "id": "3625e905",
   "metadata": {},
   "outputs": [],
   "source": [
    "score_unc_mean = np.sum(weights)**-0.5\n",
    "score_unc_mean"
   ]
  },
  {
   "cell_type": "code",
   "execution_count": null,
   "id": "0dc45f6e",
   "metadata": {},
   "outputs": [],
   "source": [
    "print(f\"Pooled effect size : {score_improved_mean.round(1)} +/- {score_unc_mean.round(1)}\")"
   ]
  },
  {
   "cell_type": "code",
   "execution_count": null,
   "id": "67a66838",
   "metadata": {},
   "outputs": [],
   "source": [
    "# Part b\n",
    "nboot = 1000\n",
    "\n",
    "dscore_boot_samples = stats.norm(score_improved_mean,score_unc_mean).rvs(size=nboot*nschool).reshape(nboot,nschool)\n",
    "\n",
    "fig, ax = plt.subplots(1,2, figsize=(8,3))\n",
    "\n",
    "ax[0].hist(dscore_boot_samples.min(axis=1), color='C0')\n",
    "ax[0].axvline(score_improved.min(), color='C1', lw=2)\n",
    "ax[0].set_xlabel('Minimum observed $\\Delta S$')\n",
    "ax[1].hist(dscore_boot_samples.max(axis=1), color='C0')\n",
    "ax[1].axvline(score_improved.max(), color='C1', lw=2)\n",
    "ax[1].set_xlabel('Maximum observed $\\Delta S$')\n",
    "\n",
    "plt.show()"
   ]
  },
  {
   "cell_type": "code",
   "execution_count": null,
   "id": "067c6075",
   "metadata": {},
   "outputs": [],
   "source": [
    "with pm.Model() as model:\n",
    "    # draw population {mu,sd} hierarchically\n",
    "    mu_pop = pm.Normal('mu_pop', mu=0, sd=20)\n",
    "    sd_pop = pm.HalfCauchy('sd_pop', beta=2)\n",
    "    \n",
    "    # use off-centered parameterization\n",
    "    dscore_off = pm.Normal('dscore_off', mu=0, sd=1, shape=nschool)\n",
    "    dscore_mod = pm.Deterministic('dscore_mod', mu_pop + sd_pop*dscore_off)\n",
    "    \n",
    "    # compute the likelihood using measured dscore {mu, sd}\n",
    "    lnlike = pm.Normal('lnlike', mu=dscore_mod, sd=dscore_obs_sd, observed=dscore_obs_mu)"
   ]
  },
  {
   "cell_type": "code",
   "execution_count": null,
   "id": "192c75a0",
   "metadata": {},
   "outputs": [],
   "source": [
    "with pm.Model() as model:\n",
    "    mu = pm.Normal('mu', mu=0, sigma=20)\n",
    "    sigma = pm.HalfCauchy('sigma', beta=2)\n",
    "    \n",
    "    lnlike = pm.Normal('lnlike', observed=score_improved)\n",
    "    \n",
    "    #idata = pm.sample(4000)"
   ]
  },
  {
   "cell_type": "code",
   "execution_count": null,
   "id": "b4568655",
   "metadata": {},
   "outputs": [],
   "source": [
    "import arviz as az\n",
    "az.plot_trace()"
   ]
  },
  {
   "cell_type": "markdown",
   "id": "dcd8f576",
   "metadata": {},
   "source": [
    "# Problem 2: The Five Districts\n",
    "\n",
    "The test-prep program was expanded across five districts, for a total of 27 schools. For each school, the mean score improvement, uncertainty on the mean, and number of hours each student spent studying was recorded.\n",
    "\n",
    "### Exercises\n",
    "\n",
    "a) Load the Five Districts dataset (five_districts.csv) and plot the data\n",
    "b) Determine the expected score improvement per hour studied for each school using three different models:\n",
    "\n",
    "+ i. A fully pooled model\n",
    "+ ii. Independent estimates for each district\n",
    "+ iii. A hierarchical model that asserts a relationship between the schools and districts.\n",
    "\n",
    "For all three cases, sample from the posterior using a sampling method of your choice. Test the sampler runs for convergence. Explore sampler behavior when using centered vs. off-centered parameterization.\n",
    "\n",
    "For the third option, draw the relationship as a directed acyclic graph. Justify your choices of distributions for parameters and hyper-parameters, and test your results for sensitivity to modeling choices.\n"
   ]
  },
  {
   "cell_type": "markdown",
   "id": "ddc8353a",
   "metadata": {},
   "source": [
    "# Problem 3: Dyson Spheres\n",
    "\n",
    "Congratulations! You've detected a strange class of objects that you suspect are [Dyson spheres](https://en.wikipedia.org/wiki/Dyson_sphere). Your data are sparse, but you nonetheless detect hints of variability in each object's brightness.\n",
    "\n",
    "a) Load the Dyson Sphere dataset (dyson_spheres.csv) and plot the time series data. What do you notice about the relative amplitude variations?\n",
    "\n",
    "b) For each object, compute a Lomb-Scargle periodogram. What do you notice about the frequency-power plot?\n",
    "\n",
    "c) Assume that each object's time series can be modeled as a single-component sinusoid. Construct a hierarchical model for the population, asserting some population-level relationship between the amplitudes, frequencies, and phases for each object's sinusoid. Which parameters might be expected to be correlated or independent of one another?"
   ]
  },
  {
   "cell_type": "markdown",
   "id": "cf55ef0d",
   "metadata": {},
   "source": [
    "# Problem 4: Astrophysics\n",
    "\n",
    "Select an astrophysical dataset of your choosing. Describe any hierarchical structure in the data using a directed acyclic graph. Build a simple hierarchical model for the data. You may wish to use only a few member objects of your dataset in order to more rapidly iterate while developing."
   ]
  },
  {
   "cell_type": "code",
   "execution_count": null,
   "id": "48f1ea5b",
   "metadata": {},
   "outputs": [],
   "source": []
  }
 ],
 "metadata": {
  "kernelspec": {
   "display_name": "Python 3 (ipykernel)",
   "language": "python",
   "name": "python3"
  },
  "language_info": {
   "codemirror_mode": {
    "name": "ipython",
    "version": 3
   },
   "file_extension": ".py",
   "mimetype": "text/x-python",
   "name": "python",
   "nbconvert_exporter": "python",
   "pygments_lexer": "ipython3",
   "version": "3.8.20"
  }
 },
 "nbformat": 4,
 "nbformat_minor": 5
}
