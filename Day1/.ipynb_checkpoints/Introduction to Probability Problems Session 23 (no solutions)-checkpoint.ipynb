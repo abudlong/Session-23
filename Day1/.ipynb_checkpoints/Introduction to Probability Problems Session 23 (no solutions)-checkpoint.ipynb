{
 "cells": [
  {
   "cell_type": "markdown",
   "id": "76cddb45",
   "metadata": {},
   "source": [
    "# Introduction to Probability - Problems\n",
    "\n",
    "### In this notebook, we'll work through some classic probability problems. Some will be \"easiest\" to implement in python, while others are best done with pen & paper."
   ]
  },
  {
   "cell_type": "markdown",
   "id": "978d7eb3",
   "metadata": {},
   "source": [
    "### Problem 1: The Birthday Problem\n",
    "\n",
    "A classic calculation is to calculate the probability that two people in today's DSFP session share the same birthday. You can approximate the number of people in the room as n=40 (~35 students, ~3 guest instructions, 1 slightly overwhelmed postdoc, and 1 Northwestern faculty member)."
   ]
  },
  {
   "cell_type": "markdown",
   "id": "bc425741",
   "metadata": {},
   "source": [
    "### Problem 1a: Is it easier to calculate this probabiltiy directly or by some other method? Discuss with those around you. "
   ]
  },
  {
   "cell_type": "markdown",
   "id": "0c54e4e5-11a1-42d8-8334-528493267dd0",
   "metadata": {},
   "source": [
    "You could calculate the probability by first determining the number of people that share the same birth month and then break it down into the days? You could also do it directly by saying the probability of 365 days, and then noteing that the probability is evenly distributed."
   ]
  },
  {
   "cell_type": "markdown",
   "id": "3aab59ab-a40c-400f-8e3b-486bf1d87400",
   "metadata": {},
   "source": [
    "### Problem 1b: What is the probability that no two people in the room share the same birthday? "
   ]
  },
  {
   "cell_type": "markdown",
   "id": "4f1ec5a3-bf85-4a12-be68-1f7cf80178cb",
   "metadata": {},
   "source": [
    "probabilityNotShare = 1 - probabilityShare"
   ]
  },
  {
   "cell_type": "markdown",
   "id": "b07f2047",
   "metadata": {},
   "source": [
    "### Problem 1c: Using your answer to 1b, plot the probability of two people sharing the same birthday as a function of the number of people in the room. At what value of n does the probability exceed 50%? Is this result surprising to you?\n",
    "\n",
    "Hint: you may need the approximation that $(1 + x) \\approx e^x$ for |x|<<1."
   ]
  },
  {
   "cell_type": "code",
   "execution_count": 17,
   "id": "4563d39e-22d9-473c-ba71-f3ecba4ac875",
   "metadata": {},
   "outputs": [
    {
     "data": {
      "text/plain": [
       "780"
      ]
     },
     "execution_count": 17,
     "metadata": {},
     "output_type": "execute_result"
    }
   ],
   "source": [
    "import math\n",
    "numberOfCombinations = int(math.factorial(40)/(math.factorial(2)*math.factorial(40-2)))\n",
    "numberOfCombinations"
   ]
  },
  {
   "cell_type": "code",
   "execution_count": 60,
   "id": "dac33e73-5aed-4588-aeaf-f18b11dcc047",
   "metadata": {},
   "outputs": [],
   "source": [
    "def combination(n):\n",
    "    numberOfCombinations = int(math.factorial(n)/(math.factorial(2)*math.factorial(n-2)))\n",
    "    return numberOfCombinations"
   ]
  },
  {
   "cell_type": "code",
   "execution_count": 61,
   "id": "5981b5ab-caa4-48d8-bbac-b335e86da9e7",
   "metadata": {},
   "outputs": [],
   "source": [
    "def notSame(n):\n",
    "    ns = (364/365)**combination(n)\n",
    "    return ns"
   ]
  },
  {
   "cell_type": "code",
   "execution_count": 76,
   "id": "a6983e64-dcbe-441f-943d-811b3a6fd680",
   "metadata": {},
   "outputs": [],
   "source": [
    "people = [int(i) for i in np.linspace(2, 40, 39)]\n"
   ]
  },
  {
   "cell_type": "code",
   "execution_count": 78,
   "id": "c7575e97-5e2e-4b98-b88d-66294bbacc76",
   "metadata": {
    "scrolled": true
   },
   "outputs": [
    {
     "data": {
      "text/plain": [
       "[0.002739726027397249,\n",
       " 0.008196680350730179,\n",
       " 0.016326175132688192,\n",
       " 0.02706194179780841,\n",
       " 0.040317030519740005,\n",
       " 0.05598498275133312,\n",
       " 0.07394125468301205,\n",
       " 0.09404486501284048,\n",
       " 0.11614023654879224,\n",
       " 0.14005919802473354,\n",
       " 0.16562311016020548,\n",
       " 0.19264507847148415,\n",
       " 0.22093221466553126,\n",
       " 0.25028790861398265,\n",
       " 0.2805140738834109,\n",
       " 0.31141333154182016,\n",
       " 0.34279109940182606,\n",
       " 0.37445755691404703,\n",
       " 0.4062294594924657,\n",
       " 0.437931780029604,\n",
       " 0.4693991596297191,\n",
       " 0.5004771540365807,\n",
       " 0.5310232667433115,\n",
       " 0.5609077642340204,\n",
       " 0.5900142731165001,\n",
       " 0.6182401629679479,\n",
       " 0.6454967224493771,\n",
       " 0.6717091395807101,\n",
       " 0.6968162999539518,\n",
       " 0.7207704190581927,\n",
       " 0.7435365267749252,\n",
       " 0.7650918234676976,\n",
       " 0.785424927943206,\n",
       " 0.8045350379211029,\n",
       " 0.8224310235481093,\n",
       " 0.8391304739689956,\n",
       " 0.8546587160708248,\n",
       " 0.8690478233012772,\n",
       " 0.8823356309842172]"
      ]
     },
     "execution_count": 78,
     "metadata": {},
     "output_type": "execute_result"
    }
   ],
   "source": [
    "same = [1 - notSame(n) for n in people]\n",
    "same"
   ]
  },
  {
   "cell_type": "code",
   "execution_count": 84,
   "id": "8f719c9a-6702-486d-bc65-c13df05d62a6",
   "metadata": {},
   "outputs": [
    {
     "data": {
      "image/png": "[encoded data removed]",
      "text/plain": [
       "<Figure size 640x480 with 1 Axes>"
      ]
     },
     "metadata": {},
     "output_type": "display_data"
    }
   ],
   "source": [
    "import matplotlib.pyplot as plt\n",
    "plt.plot(people, same);\n",
    "plt.axhline(0.5, color='r')\n",
    "plt.xlabel('Number of People')\n",
    "plt.ylabel('Probability');\n",
    "plt.title('Probability');"
   ]
  },
  {
   "cell_type": "markdown",
   "id": "0b03f673-e651-4efa-a86f-f615844be7b5",
   "metadata": {},
   "source": [
    "### Bonus Problem (to be completed in the lunch break): Find at least two DSFP attendees who share the same birthday. "
   ]
  },
  {
   "cell_type": "markdown",
   "id": "ce9ffe15",
   "metadata": {},
   "source": [
    "### [Pen & Paper] Problem 2: The Monty Hall Problem\n",
    "\n",
    "Another classic problem comes from the Monty Hall gameshow. On this game show, contestants are first asked to pick between several doors. Behind one of the doors is a large prize (a car, dream vacation, etc.) while the contestant goes home empty handed if they pick either of the other doors. The gameshow host then opens one of the doors that does not contain the prize. \n",
    "\n",
    "Now the clever bit. The contestant is then asked if they want to change their original choice of door for the other closed door. Your task is to make this choice for them. Assume for this problem that the context picks a door labelled n=1 and that the prize is contained behind door n=k. \n",
    "\n",
    "### Problem 2a) Getting started: applying the Principle of Indifference\n",
    "\n",
    "Before any doors are open, what is the conditional probability that the nth door contains a prize? "
   ]
  },
  {
   "cell_type": "code",
   "execution_count": null,
   "id": "653b7db3-5a8b-4bc6-84df-4576df334317",
   "metadata": {},
   "outputs": [],
   "source": [
    "prizeProbInitial = (1/nDoor)"
   ]
  },
  {
   "cell_type": "markdown",
   "id": "86ce7367-8414-4cf9-aeaa-6595456a2777",
   "metadata": {},
   "source": [
    "### Problem 2b) Conditioning on data\n",
    "\n",
    "Use the Bayes rule to write down the probability of $H_{1}$ that the prize is behind the chosen (first) door given observed doors $\\{d_k\\}$, k < n do not contain the prize. \n",
    "\n",
    "\n",
    "**Separately (this answer does not use what you just wrote down)** <br>\n",
    "Then write down the probability that the kth door remains unopened given that $H_1$ is true."
   ]
  },
  {
   "cell_type": "code",
   "execution_count": null,
   "id": "6c3a7dfd-320e-4aba-bc4a-3386ff99b2ec",
   "metadata": {},
   "outputs": [],
   "source": [
    "# k is number of doors\n",
    "# n is the door number\n",
    "pB = (k-n/k)\n",
    "pA = (1/n)\n",
    "pBgA = (1/(k-n))\n",
    "pH = (pBgA)*pA/pB"
   ]
  },
  {
   "cell_type": "markdown",
   "id": "d402146e-ab93-4f7e-b14e-d1da9583f147",
   "metadata": {},
   "source": [
    "### Problem 2c) Law of total probability \n",
    "\n",
    "Use the law of total probability to write down an expression for the probability of observing $\\{d_k\\}$ open doors (w/o) prizes.\n"
   ]
  },
  {
   "cell_type": "markdown",
   "id": "b19e8f3d-da4a-4145-80a8-b91b2da75353",
   "metadata": {},
   "source": [
    "### Problem 2d) The key idea\n",
    "\n",
    "Write down the probability that the kth door stays unopened given that H_i = the hypothesis that the ith door contains the prize remains unopened. "
   ]
  },
  {
   "cell_type": "markdown",
   "id": "614c0745-9b1d-444e-aeeb-a214275e5683",
   "metadata": {},
   "source": [
    "\n",
    "### Problem 2e) Should the contestant switch doors?\n",
    "\n",
    "Combine your answer to 2b) and 2d) to give the probability that the prize is behind the first door. Then use the axioms of probability theory to compute the probability that the prize is behind the final (kth) door. Should the person switch?"
   ]
  },
  {
   "cell_type": "markdown",
   "id": "8a5c6c3c",
   "metadata": {},
   "source": [
    "### Problem 3: Boolean Logic\n",
    "\n",
    "An alternative interpretation of probability theory is that it represents an extension of classical logic to possibilities or plausibilities. In this sense, probability theory is a new kind of logic, and not statements about long run frequencies of events. In this problem, you'll explore the boolean logic that forms the basis for this perspective. While interesting for the development of probability theory, these are also useful skills for general programming tasks. \n",
    "\n",
    "We define the logical product and denote it by the symbol AB, which means that both propositions A and B are true. \n",
    "\n",
    "We define the logical sum and denote it by the symbol A + B, which means that at least one of the proopsitions A, or B is true. A + B = B + A. \n",
    "\n",
    "### Problem 3a) Generate two arrays, A and B, with randomly distributed numbers.\n",
    "\n",
    "### Problem 3b) Create two arrays, one consisting of booleans when the value of the A array and B array are > 0.5 \n",
    "\n",
    "### Problem 3c) Use the arrays from 3b) to create an array consisting only of the values in A where both A and B are greater than 0.5\n",
    "\n",
    "### Problem 3d) Do the same, except for where either A or B are greater than 0.5. "
   ]
  },
  {
   "cell_type": "markdown",
   "id": "743b4a42",
   "metadata": {},
   "source": [
    "## Problem 4: Probability Transformations in Astronomy\n",
    "\n",
    "This example comes from the AstroML book, and is a famous example of where a common transformation in astronomy does not preserve all of the properties of the underlying distribution. \n",
    "\n",
    "### Problem 4a) Generate some underlying normally distributed flux data\n",
    "\n",
    "Hint: you can do this most easily with scipy.stats.norm(), norm.rvs. Your life in 4d) will be slightly easier if you generate an odd number of samples.\n",
    "\n",
    "### Problem 4b) Transform fluxes to magnitudes\n",
    "\n",
    "The magnitude of a source is defined as mag $= -2.5 \\log_{10}(F)$. transform your normally distributed flux data to magnitudes. \n",
    "\n",
    "### Problem 4c) Plot your results\n",
    "\n",
    "Plot the flux and magnitude distribution. How has the transformation changed the shape of the distribution?\n",
    "\n",
    "### Problem 4d) Cumulative Distribution Function\n",
    "\n",
    "Plot the CDF of each distribution and discuss the properties of the CDF. Then compute the 25th, 50th, and 75th percentiles of both distributions and determine what data point each maps to. The CDF, median, and percentiles form the basis for many statistical tests of distribution similarity."
   ]
  },
  {
   "cell_type": "markdown",
   "id": "e5fe09e1",
   "metadata": {},
   "source": [
    "### Challenge Problem: From where does randomness come from?"
   ]
  },
  {
   "cell_type": "markdown",
   "id": "349416df",
   "metadata": {},
   "source": [
    "As astronomers, we know that there are two exclusively correct theories of nature. Classical mechanics and general relativity and no others. Given that both of these theories are deterministic, from where does randomnness come from? \n",
    "\n",
    "One way that people have approached this question is by positing that randomness (or probability) are empirical facts - something we see in the behaivor of a rolled die or a flipped coin. In fact, if we flip a coin a large number of times, it does approach a 1/2 H 1/2 T distribution. \n",
    "\n",
    "This has never quite made sense to me. We assume that both outcomes are equally likely based on the principle of indifference. But a coin is not in an indifferent starting state - one side is typically face up before you flip it. How can we explain the equally likely outcomes?\n",
    "\n",
    "Start by writing down the equations of motion for the coin as it moves through the air (and rotates). Once you have done that, plot the 'pre-image' (space of initial conditions) that lead to H and T outcomes. Explain why coins have a 1/2 H and 1/2 T long-run distribution and speculate on the origin of randomness. "
   ]
  }
 ],
 "metadata": {
  "kernelspec": {
   "display_name": "Python 3 (ipykernel)",
   "language": "python",
   "name": "python3"
  },
  "language_info": {
   "codemirror_mode": {
    "name": "ipython",
    "version": 3
   },
   "file_extension": ".py",
   "mimetype": "text/x-python",
   "name": "python",
   "nbconvert_exporter": "python",
   "pygments_lexer": "ipython3",
   "version": "3.12.9"
  }
 },
 "nbformat": 4,
 "nbformat_minor": 5
}
