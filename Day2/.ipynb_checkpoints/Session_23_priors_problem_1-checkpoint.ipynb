{
 "cells": [
  {
   "cell_type": "markdown",
   "id": "d48efde4",
   "metadata": {},
   "source": [
    "## Problem 1: The Curse of Dimensionality; or why self driving cars are hard.\n",
    "\n",
    "### 1a) Sampling in low dimensions\n",
    "\n",
    "Generate a sample of 100 randomly distributed points inside a 2D square. "
   ]
  },
  {
   "cell_type": "code",
   "execution_count": 3,
   "id": "3512ae37",
   "metadata": {},
   "outputs": [],
   "source": [
    "import random\n",
    "\n",
    "def generate_random_points(num_points):\n",
    "  points = []\n",
    "  for _ in range(num_points):\n",
    "    x = random.random()  # Generate a random float between 0 and 1\n",
    "    y = random.random()  # Generate a random float between 0 and 1\n",
    "    points.append((x, y))\n",
    "  return points\n",
    "\n",
    "random_points = generate_random_points(100)\n"
   ]
  },
  {
   "cell_type": "markdown",
   "id": "f4e59cc4",
   "metadata": {},
   "source": [
    "### 1b) Distances in low dimensions\n",
    "\n",
    "Calculate the pairwise distances between all of the points, in d-dimensions, for two points x_i and y_i, this quantity is\n",
    "\n",
    "$$ |x - y| = \\sqrt{\\Sigma (x_i - y_i)^2} $$"
   ]
  },
  {
   "cell_type": "code",
   "execution_count": 12,
   "id": "c256995e",
   "metadata": {},
   "outputs": [],
   "source": [
    "import numpy as np\n",
    "def pairwiseDistances(points):\n",
    "    distance = [np.sqrt(x**2+y*2) for x, y in points]\n",
    "    return distance"
   ]
  },
  {
   "cell_type": "code",
   "execution_count": 13,
   "id": "32722437",
   "metadata": {},
   "outputs": [],
   "source": [
    "distances = pairwiseDistances(random_points)"
   ]
  },
  {
   "cell_type": "markdown",
   "id": "b12f7667",
   "metadata": {},
   "source": [
    "### 1c) Distribution of distances in low dimensions \n",
    "\n",
    "Plot the distribution of these distances. Do you notice anything interesting? Is a \"special value\" picked out?"
   ]
  },
  {
   "cell_type": "code",
   "execution_count": 35,
   "id": "4841e8ba",
   "metadata": {},
   "outputs": [
    {
     "data": {
      "image/png": "[encoded data removed]",
      "text/plain": [
       "<Figure size 640x480 with 1 Axes>"
      ]
     },
     "metadata": {},
     "output_type": "display_data"
    }
   ],
   "source": [
    "import matplotlib.pyplot as plt\n",
    "plt.rcParams['axes.facecolor'] = 'lightgray'\n",
    "plt.rcParams['axes.edgecolor'] = 'lightgray'\n",
    "plt.style.use('ggplot')\n",
    "\n",
    "plt.hist(distances, bins=20, color='b', edgecolor='lightgrey')\n",
    "plt.xlim(0,2)\n",
    "plt.ylim(0,15)\n",
    "plt.title('Distribution of Distances')\n",
    "plt.ylabel('Count Number')\n",
    "plt.xlabel('Distance');"
   ]
  },
  {
   "cell_type": "markdown",
   "id": "e2551e15",
   "metadata": {},
   "source": [
    "### 1d) Extending to d-dimensions\n",
    "\n",
    "Now, let's consider the difference between picking a point located in a d-dimensional sphere vs in a d-dimensional cube. To do this, calculate and plot the the difference between the volume of a cube centered at the origin and going from [-1, 1] and the volume of a unit-radius sphere as the dimension d of the space increases. Possibly helpful formula: \n",
    "\n",
    "$$ Sphere: V_d = \\frac{\\pi^{d/2}}{\\frac{d}{2} \\Gamma(\\frac{d}{2})} R^d$$ \n",
    "\n",
    "where R is the radius of the sphere.\n",
    "\n",
    "$$ Cube: V_d = L^d $$\n",
    "\n",
    "and L is the length of a side."
   ]
  },
  {
   "cell_type": "code",
   "execution_count": 36,
   "id": "701c635c",
   "metadata": {},
   "outputs": [],
   "source": [
    "import math\n",
    "def gammaFunction(n):\n",
    "    math.factorial(n-1)"
   ]
  },
  {
   "cell_type": "code",
   "execution_count": 37,
   "id": "6e07db9c",
   "metadata": {},
   "outputs": [],
   "source": [
    "def sphereVolume(d, R):\n",
    "    volume = np.pi**{d/2}/((d/2)*gammaFunction(d/2))*R**(d)\n",
    "    return volume"
   ]
  },
  {
   "cell_type": "code",
   "execution_count": 38,
   "id": "2ce486f3",
   "metadata": {},
   "outputs": [],
   "source": [
    "def cubeVolume(L, d):\n",
    "    volume = L**(d)\n",
    "    return volume"
   ]
  },
  {
   "cell_type": "markdown",
   "id": "a2054c67",
   "metadata": {},
   "source": [
    "### 1e) Sampling in d-dimensions\n",
    "\n",
    "Now, consider the problem of sampling in high-dimensions. If we use a uniform prior on every parameter, our expectation is that we will well sample the parameter space simply by picking in a \"uniform way\". Calculate the ratio of volume contained in an annulus between $R$ and $R - \\epsilon$ for d = 1-20 and plot this. Interpret your result in terms of a sampling problem. Are uniform priors a good choice in higher dimensions? Why or why not?"
   ]
  },
  {
   "cell_type": "code",
   "execution_count": null,
   "id": "bd024663",
   "metadata": {},
   "outputs": [],
   "source": []
  }
 ],
 "metadata": {
  "kernelspec": {
   "display_name": "Python 3 (ipykernel)",
   "language": "python",
   "name": "python3"
  },
  "language_info": {
   "codemirror_mode": {
    "name": "ipython",
    "version": 3
   },
   "file_extension": ".py",
   "mimetype": "text/x-python",
   "name": "python",
   "nbconvert_exporter": "python",
   "pygments_lexer": "ipython3",
   "version": "3.8.20"
  }
 },
 "nbformat": 4,
 "nbformat_minor": 5
}
